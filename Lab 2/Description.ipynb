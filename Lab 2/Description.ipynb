{
    "metadata": {
        "kernelspec": {
            "name": "python3",
            "display_name": "Python 3 (ipykernel)",
            "language": "python"
        }
    },
    "nbformat": 4,
    "nbformat_minor": 2,
    "cells": [
        {
            "attachments": {},
            "cell_type": "markdown",
            "metadata": {},
            "source": [
                "In this lab, you will discuss your vision for the Discover AI project and start researching data sets that match said topic. \n",
                "You will identify a data set from a public database and start cleaning and exploring it.\n",
                "\n",
                "**Before attending the lab:**\n",
                "\n",
                "1. Schedule time with your team to begin brainstorming possible areas of interest for your Discover AI project. See the “Deliverables, Requirements \u0026 Certificate of Completion\" and the \"Project Proposal Rubric\" documents for proposal requirements.\n",
                "\n",
                "2. If you choose to use supervised or unsupervised learning, visit kaggle.com, create an account, and identify a dataset that will help you investigate the topic of interest.\n",
                "\n",
                "3. If you choose to use reinforcement learning, please go to the ReinforcementLearning notebook to see a list of problems to choose from.\n",
                "\n",
                "\n",
                "**In the lab:**\n",
                "\n",
                "\n",
                "1. Fork lab II workspace\n",
                "2. For supervised and unsupervised learning:\n",
                "    1. Name your data file *originalfile.csv*, then upload it\n",
                "    2. Explore the data set using the main notebook\n",
                "    3. Remove rows with missing data and clean your data set, then rename the new file to *cleanedfile.csv*\n",
                "3. For reinforcement learning:\n",
                "    1. Choose a problem to work on from the provided list.\n",
                "    2. Install the needed packages for the problem's set up.\n",
                "3. Run one type of machine learning algorithm using your data set. \n",
                "4. Report observations in the observations notebook.\n",
                "5. Upload your project to github.\n",
                "\n",
                "---\n",
                "\n",
                "\n",
                "Please use *fork* to make a copy of this workspace, then follow the steps in this workspace.\n",
                "\n",
                "Rename your workspace: *Lab II First_Last*, where *First* \u0026 *Last* are your first and last name.\n",
                "\n",
                "To allow the TA to view your work, go to 'Share' and invite users by adding your TA's name and giving them Read and Write permission.\n",
                "\n",
                "\n",
                "---\n",
                "\n",
                "\n",
                "Note that you don't have to install any software on your computer. In addition, instead of Jupyter, we will be using Saturn because it is better supported in EdStem.\n",
                "\n",
                "**Saturn shortcuts**\n",
                "\n",
                "Press *Ctrl+return* to run each section separately. Please note that some sections depend on the previous sections, and run them in order. You can run the whole program at once, buy clicking the *Run All* button.\n",
                ""
            ]
        }
    ]
}
