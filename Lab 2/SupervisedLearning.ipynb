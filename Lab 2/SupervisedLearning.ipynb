{
    "metadata": {
        "kernelspec": {
            "name": "python3",
            "display_name": "Python 3 (ipykernel)",
            "language": "python"
        }
    },
    "nbformat": 4,
    "nbformat_minor": 2,
    "cells": [
        {
            "attachments": {},
            "cell_type": "markdown",
            "metadata": {},
            "source": [
                "This code is an introduction to supervised learning solving a classification problem using **decision trees**.\n",
                "It follows [this tutorial](https://youtu.be/7eh4d6sabA0). "
            ]
        },
        {
            "attachments": {},
            "cell_type": "markdown",
            "metadata": {},
            "source": [
                "# **Classification Problem**\n",
                "We will follow these steps of solving a machine learning problem.\n",
                "\n",
                "\n",
                "1. Import the Data\n",
                "2. Clean the Data\n",
                "3. split the Data into Training/ Test steps\n",
                "4. Create a Model\n",
                "5. Train the Model\n",
                "6. Make Predictions\n",
                "7. Evaluate and improve\n",
                ""
            ]
        },
        {
            "attachments": {},
            "cell_type": "markdown",
            "metadata": {},
            "source": [
                "# Problem description\n",
                "Enter in the text cell below what you will be predicting in this classification problem (y) and which columns will be used in the prediction (X)"
            ]
        },
        {
            "attachments": {},
            "cell_type": "markdown",
            "metadata": {},
            "source": [
                ""
            ]
        },
        {
            "cell_type": "code",
            "execution_count": 1,
            "metadata": {},
            "outputs": [],
            "source": [
                "import pandas as pd\n",
                "from sklearn.tree import DecisionTreeClassifier\n",
                "from sklearn.model_selection import train_test_split\n",
                "from sklearn.metrics import accuracy_score\n",
                "import joblib\n",
                "from sklearn import tree"
            ]
        },
        {
            "attachments": {},
            "cell_type": "markdown",
            "metadata": {},
            "source": [
                "1. Import the Data."
            ]
        },
        {
            "cell_type": "code",
            "execution_count": 2,
            "metadata": {},
            "outputs": [],
            "source": [
                "df_original = pd.read_csv('originalfile.csv')\n",
                "df = pd.read_csv('originalfile.csv')\n",
                "#df.drop(['title', 'artist', 'top genre'], axis = 1)\n",
                "df.drop(df.columns[[0, 1, 2]], inplace = True, axis = 1)"
            ]
        },
        {
            "attachments": {},
            "cell_type": "markdown",
            "metadata": {},
            "source": [
                "2. Display columns and describe the data set"
            ]
        },
        {
            "cell_type": "code",
            "execution_count": 3,
            "metadata": {},
            "outputs": [
                {
                    "name": "stdout",
                    "output_type": "stream",
                    "text": "    year  beats.per.minute  energy  danceability  loudness.dB  liveness  \\\n0   2020               171      73            51           -6         9   \n1   2019                95      82            55           -4        34   \n2   2021                91      72            70           -4        32   \n3   2019               110      41            50           -6        11   \n4   2017                95      45            60           -6        11   \n..   ...               ...     ...           ...          ...       ...   \n95  2016               104      61            79           -6        32   \n96  2015               120      79            75           -7         9   \n97  2021               126      83            66           -5        40   \n98  2018                93      80            61           -5        16   \n99  2016               102      73            67           -7         9   \n\n    valance  length  acousticness  speechiness  popularity  \n0        33     200             0            6          91  \n1        56     174            12            5          88  \n2        73     141            17            4          88  \n3        45     182            75            3          86  \n4        17     263            16            2          86  \n..      ...     ...           ...          ...         ...  \n95       43     174             1            6          66  \n96       88     235             6            3          66  \n97       74     172             5           29          66  \n98       50     185             7            4          56  \n99       66     198             3           10          53  \n\n[100 rows x 11 columns]\n"
                }
            ],
            "source": [
                "print(df)"
            ]
        },
        {
            "cell_type": "code",
            "execution_count": 4,
            "metadata": {},
            "outputs": [
                {
                    "name": "stdout",
                    "output_type": "stream",
                    "text": "\u003cclass 'pandas.core.frame.DataFrame'\u003e\nRangeIndex: 100 entries, 0 to 99\nData columns (total 11 columns):\n #   Column            Non-Null Count  Dtype\n---  ------            --------------  -----\n 0   year              100 non-null    int64\n 1   beats.per.minute  100 non-null    int64\n 2   energy            100 non-null    int64\n 3   danceability      100 non-null    int64\n 4   loudness.dB       100 non-null    int64\n 5   liveness          100 non-null    int64\n 6   valance           100 non-null    int64\n 7   length            100 non-null    int64\n 8   acousticness      100 non-null    int64\n 9   speechiness       100 non-null    int64\n 10  popularity        100 non-null    int64\ndtypes: int64(11)\nmemory usage: 8.7 KB\n"
                }
            ],
            "source": [
                "df.info()"
            ]
        },
        {
            "cell_type": "code",
            "execution_count": 5,
            "metadata": {},
            "outputs": [
                {
                    "data": {
                        "text/html": "\u003cdiv\u003e\n\u003cstyle scoped\u003e\n    .dataframe tbody tr th:only-of-type {\n        vertical-align: middle;\n    }\n\n    .dataframe tbody tr th {\n        vertical-align: top;\n    }\n\n    .dataframe thead th {\n        text-align: right;\n    }\n\u003c/style\u003e\n\u003ctable border=\"1\" class=\"dataframe\"\u003e\n  \u003cthead\u003e\n    \u003ctr style=\"text-align: right;\"\u003e\n      \u003cth\u003e\u003c/th\u003e\n      \u003cth\u003eyear\u003c/th\u003e\n      \u003cth\u003ebeats.per.minute\u003c/th\u003e\n      \u003cth\u003eenergy\u003c/th\u003e\n      \u003cth\u003edanceability\u003c/th\u003e\n      \u003cth\u003eloudness.dB\u003c/th\u003e\n      \u003cth\u003eliveness\u003c/th\u003e\n      \u003cth\u003evalance\u003c/th\u003e\n      \u003cth\u003elength\u003c/th\u003e\n      \u003cth\u003eacousticness\u003c/th\u003e\n      \u003cth\u003espeechiness\u003c/th\u003e\n      \u003cth\u003epopularity\u003c/th\u003e\n    \u003c/tr\u003e\n  \u003c/thead\u003e\n  \u003ctbody\u003e\n    \u003ctr\u003e\n      \u003cth\u003ecount\u003c/th\u003e\n      \u003ctd\u003e100.000000\u003c/td\u003e\n      \u003ctd\u003e100.000000\u003c/td\u003e\n      \u003ctd\u003e100.000000\u003c/td\u003e\n      \u003ctd\u003e100.00000\u003c/td\u003e\n      \u003ctd\u003e100.000000\u003c/td\u003e\n      \u003ctd\u003e100.000000\u003c/td\u003e\n      \u003ctd\u003e100.000000\u003c/td\u003e\n      \u003ctd\u003e100.000000\u003c/td\u003e\n      \u003ctd\u003e100.00000\u003c/td\u003e\n      \u003ctd\u003e100.000000\u003c/td\u003e\n      \u003ctd\u003e100.000000\u003c/td\u003e\n    \u003c/tr\u003e\n    \u003ctr\u003e\n      \u003cth\u003emean\u003c/th\u003e\n      \u003ctd\u003e2015.960000\u003c/td\u003e\n      \u003ctd\u003e116.970000\u003c/td\u003e\n      \u003ctd\u003e62.680000\u003c/td\u003e\n      \u003ctd\u003e66.96000\u003c/td\u003e\n      \u003ctd\u003e-6.100000\u003c/td\u003e\n      \u003ctd\u003e16.860000\u003c/td\u003e\n      \u003ctd\u003e49.970000\u003c/td\u003e\n      \u003ctd\u003e214.530000\u003c/td\u003e\n      \u003ctd\u003e24.95000\u003c/td\u003e\n      \u003ctd\u003e9.930000\u003c/td\u003e\n      \u003ctd\u003e79.670000\u003c/td\u003e\n    \u003c/tr\u003e\n    \u003ctr\u003e\n      \u003cth\u003estd\u003c/th\u003e\n      \u003ctd\u003e5.327497\u003c/td\u003e\n      \u003ctd\u003e27.470629\u003c/td\u003e\n      \u003ctd\u003e16.491737\u003c/td\u003e\n      \u003ctd\u003e13.60401\u003c/td\u003e\n      \u003ctd\u003e1.987334\u003c/td\u003e\n      \u003ctd\u003e12.972403\u003c/td\u003e\n      \u003ctd\u003e21.737857\u003c/td\u003e\n      \u003ctd\u003e35.934974\u003c/td\u003e\n      \u003ctd\u003e26.27876\u003c/td\u003e\n      \u003ctd\u003e9.424077\u003c/td\u003e\n      \u003ctd\u003e5.905065\u003c/td\u003e\n    \u003c/tr\u003e\n    \u003ctr\u003e\n      \u003cth\u003emin\u003c/th\u003e\n      \u003ctd\u003e1975.000000\u003c/td\u003e\n      \u003ctd\u003e71.000000\u003c/td\u003e\n      \u003ctd\u003e11.000000\u003c/td\u003e\n      \u003ctd\u003e35.00000\u003c/td\u003e\n      \u003ctd\u003e-14.000000\u003c/td\u003e\n      \u003ctd\u003e3.000000\u003c/td\u003e\n      \u003ctd\u003e6.000000\u003c/td\u003e\n      \u003ctd\u003e119.000000\u003c/td\u003e\n      \u003ctd\u003e0.00000\u003c/td\u003e\n      \u003ctd\u003e2.000000\u003c/td\u003e\n      \u003ctd\u003e53.000000\u003c/td\u003e\n    \u003c/tr\u003e\n    \u003ctr\u003e\n      \u003cth\u003e25%\u003c/th\u003e\n      \u003ctd\u003e2015.000000\u003c/td\u003e\n      \u003ctd\u003e95.000000\u003c/td\u003e\n      \u003ctd\u003e52.000000\u003c/td\u003e\n      \u003ctd\u003e59.00000\u003c/td\u003e\n      \u003ctd\u003e-7.000000\u003c/td\u003e\n      \u003ctd\u003e10.000000\u003c/td\u003e\n      \u003ctd\u003e33.750000\u003c/td\u003e\n      \u003ctd\u003e190.500000\u003c/td\u003e\n      \u003ctd\u003e4.00000\u003c/td\u003e\n      \u003ctd\u003e4.000000\u003c/td\u003e\n      \u003ctd\u003e79.000000\u003c/td\u003e\n    \u003c/tr\u003e\n    \u003ctr\u003e\n      \u003cth\u003e50%\u003c/th\u003e\n      \u003ctd\u003e2017.000000\u003c/td\u003e\n      \u003ctd\u003e115.000000\u003c/td\u003e\n      \u003ctd\u003e64.500000\u003c/td\u003e\n      \u003ctd\u003e69.00000\u003c/td\u003e\n      \u003ctd\u003e-6.000000\u003c/td\u003e\n      \u003ctd\u003e12.000000\u003c/td\u003e\n      \u003ctd\u003e48.000000\u003c/td\u003e\n      \u003ctd\u003e210.000000\u003c/td\u003e\n      \u003ctd\u003e13.00000\u003c/td\u003e\n      \u003ctd\u003e6.000000\u003c/td\u003e\n      \u003ctd\u003e81.000000\u003c/td\u003e\n    \u003c/tr\u003e\n    \u003ctr\u003e\n      \u003cth\u003e75%\u003c/th\u003e\n      \u003ctd\u003e2018.000000\u003c/td\u003e\n      \u003ctd\u003e135.250000\u003c/td\u003e\n      \u003ctd\u003e76.000000\u003c/td\u003e\n      \u003ctd\u003e77.00000\u003c/td\u003e\n      \u003ctd\u003e-5.000000\u003c/td\u003e\n      \u003ctd\u003e17.250000\u003c/td\u003e\n      \u003ctd\u003e66.000000\u003c/td\u003e\n      \u003ctd\u003e234.250000\u003c/td\u003e\n      \u003ctd\u003e41.50000\u003c/td\u003e\n      \u003ctd\u003e11.000000\u003c/td\u003e\n      \u003ctd\u003e83.000000\u003c/td\u003e\n    \u003c/tr\u003e\n    \u003ctr\u003e\n      \u003cth\u003emax\u003c/th\u003e\n      \u003ctd\u003e2021.000000\u003c/td\u003e\n      \u003ctd\u003e186.000000\u003c/td\u003e\n      \u003ctd\u003e92.000000\u003c/td\u003e\n      \u003ctd\u003e91.00000\u003c/td\u003e\n      \u003ctd\u003e-3.000000\u003c/td\u003e\n      \u003ctd\u003e79.000000\u003c/td\u003e\n      \u003ctd\u003e93.000000\u003c/td\u003e\n      \u003ctd\u003e354.000000\u003c/td\u003e\n      \u003ctd\u003e98.00000\u003c/td\u003e\n      \u003ctd\u003e46.000000\u003c/td\u003e\n      \u003ctd\u003e91.000000\u003c/td\u003e\n    \u003c/tr\u003e\n  \u003c/tbody\u003e\n\u003c/table\u003e\n\u003c/div\u003e",
                        "text/plain": "              year  beats.per.minute      energy  danceability  loudness.dB  \\\ncount   100.000000        100.000000  100.000000     100.00000   100.000000   \nmean   2015.960000        116.970000   62.680000      66.96000    -6.100000   \nstd       5.327497         27.470629   16.491737      13.60401     1.987334   \nmin    1975.000000         71.000000   11.000000      35.00000   -14.000000   \n25%    2015.000000         95.000000   52.000000      59.00000    -7.000000   \n50%    2017.000000        115.000000   64.500000      69.00000    -6.000000   \n75%    2018.000000        135.250000   76.000000      77.00000    -5.000000   \nmax    2021.000000        186.000000   92.000000      91.00000    -3.000000   \n\n         liveness     valance      length  acousticness  speechiness  \\\ncount  100.000000  100.000000  100.000000     100.00000   100.000000   \nmean    16.860000   49.970000  214.530000      24.95000     9.930000   \nstd     12.972403   21.737857   35.934974      26.27876     9.424077   \nmin      3.000000    6.000000  119.000000       0.00000     2.000000   \n25%     10.000000   33.750000  190.500000       4.00000     4.000000   \n50%     12.000000   48.000000  210.000000      13.00000     6.000000   \n75%     17.250000   66.000000  234.250000      41.50000    11.000000   \nmax     79.000000   93.000000  354.000000      98.00000    46.000000   \n\n       popularity  \ncount  100.000000  \nmean    79.670000  \nstd      5.905065  \nmin     53.000000  \n25%     79.000000  \n50%     81.000000  \n75%     83.000000  \nmax     91.000000  "
                    },
                    "execution_count": 5,
                    "metadata": {},
                    "output_type": "execute_result"
                }
            ],
            "source": [
                "df.describe()"
            ]
        },
        {
            "attachments": {},
            "cell_type": "markdown",
            "metadata": {},
            "source": [
                "3. Prepare Data"
            ]
        },
        {
            "cell_type": "code",
            "execution_count": 6,
            "metadata": {},
            "outputs": [],
            "source": [
                "# Run this section to inspect X\n",
                "# X = df.drop(columns = ['year'])\n",
                "# df.drop(columns = ['artist'])\n",
                "X = df"
            ]
        },
        {
            "cell_type": "code",
            "execution_count": 7,
            "metadata": {},
            "outputs": [
                {
                    "data": {
                        "text/plain": "0     73\n1     82\n2     72\n3     41\n4     45\n      ..\n95    61\n96    79\n97    83\n98    80\n99    73\nName: energy, Length: 100, dtype: int64"
                    },
                    "execution_count": 7,
                    "metadata": {},
                    "output_type": "execute_result"
                }
            ],
            "source": [
                "# Uncomment this section to inpect y\n",
                "y = df['energy']\n",
                "y"
            ]
        },
        {
            "attachments": {},
            "cell_type": "markdown",
            "metadata": {},
            "source": [
                "4. Calculate accuracy"
            ]
        },
        {
            "cell_type": "code",
            "execution_count": 8,
            "metadata": {},
            "outputs": [
                {
                    "data": {
                        "text/plain": "0.45"
                    },
                    "execution_count": 8,
                    "metadata": {},
                    "output_type": "execute_result"
                }
            ],
            "source": [
                "# Train 80% of the data set and use the rest to test\n",
                "X_train, X_test, y_train, y_test = train_test_split(\n",
                "                                    X, y, test_size=0.2)\n",
                "\n",
                "model = DecisionTreeClassifier()\n",
                "model.fit(X_train, y_train)\n",
                "predictions = model.predict(X_test)\n",
                "\n",
                "# Compute model accuracy\n",
                "score = accuracy_score(y_test, predictions)\n",
                "score"
            ]
        },
        {
            "attachments": {},
            "cell_type": "markdown",
            "metadata": {},
            "source": [
                "5. Persisting Models"
            ]
        },
        {
            "cell_type": "code",
            "execution_count": 9,
            "metadata": {},
            "outputs": [
                {
                    "data": {
                        "text/plain": "['MODELNAME.joblib']"
                    },
                    "execution_count": 9,
                    "metadata": {},
                    "output_type": "execute_result"
                }
            ],
            "source": [
                "# Save the model to file\n",
                "joblib.dump(model, 'MODELNAME.joblib')\n",
                ""
            ]
        },
        {
            "attachments": {},
            "cell_type": "markdown",
            "metadata": {},
            "source": [
                "5.b. Import the model and make predictions"
            ]
        },
        {
            "cell_type": "code",
            "execution_count": 10,
            "metadata": {},
            "outputs": [
                {
                    "data": {
                        "text/plain": "array([86, 73, 38, 54, 73, 37, 75, 26, 79, 72, 86, 69, 69, 57, 73, 87, 42,\n       65, 61, 47])"
                    },
                    "execution_count": 10,
                    "metadata": {},
                    "output_type": "execute_result"
                }
            ],
            "source": [
                "# Load saved model. Make sure that you have run the previous\n",
                "# section at least once, and that the file exists.\n",
                "\n",
                "model = joblib.load('MODELNAME.joblib')\n",
                "predictions = model.predict(X_test)\n",
                "predictions"
            ]
        },
        {
            "attachments": {},
            "cell_type": "markdown",
            "metadata": {},
            "source": [
                "6. (Optional) Visualize decision trees"
            ]
        },
        {
            "cell_type": "code",
            "execution_count": 13,
            "metadata": {},
            "outputs": [],
            "source": [
                "tree.export_graphviz(model, out_file = 'MODELNAME.dot',\n",
                "                    feature_names = X.columns, \n",
                "                    class_names = str(sorted(y.unique())), \n",
                "                    label = 'all',\n",
                "                    rounded = True, \n",
                "                    filled = True)\n",
                "\n",
                "#Download the file music-recommender.dot and open it in VS Code.\n",
                ""
            ]
        }
    ]
}
